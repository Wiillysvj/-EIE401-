{
 "cells": [
  {
   "cell_type": "markdown",
   "id": "0a22500b-75f6-4e9e-bff8-e2166e04bd6a",
   "metadata": {},
   "source": [
    "<h1><center>\n",
    "\n",
    "</center></h1>\n",
    "<font size=\"6\"><center>\n",
    "EIE 401\n",
    "PROCESAMIENTO DIGITAL MULTIMEDIA \n",
    "</center></font>"
   ]
  },
  {
   "cell_type": "markdown",
   "id": "4bb821ab-49e9-40ef-8ecd-d491bba9452c",
   "metadata": {},
   "source": [
    "\n",
    "<center><h2>Proyecto 2</h2></center>\n",
    "<center><h3>Procesamiento digital de señales</h3></center>\n",
    "<center><h3>Profesor: Jorge Cardenas</h3></center>\n",
    "\n",
    "<center><h3>Por: Guillermo Cortés Medina</h3></center>\n",
    "<center><h5>Pontificia Universidad Catolica de Valparaiso</h5></center>\n",
    " "
   ]
  },
  {
   "cell_type": "code",
   "execution_count": 1,
   "id": "215c84a4",
   "metadata": {},
   "outputs": [],
   "source": [
    "from IPython.display import IFrame, display\n",
    "#filepath = \"Proyecto_2_EIE401.pdf\"\n",
    "#IFrame(filepath, width=700, height=400)"
   ]
  },
  {
   "cell_type": "markdown",
   "id": "c63b11e7",
   "metadata": {},
   "source": [
    "En la dirección https://huggingface.co/datasets/astroboy1/metasurfaces_V1_30-90GHZ encontrarás el archivo batch_june2024.zip que contiene las imagenes que usarás para el procesamiento. ATENCION: usa el archivo zip indicado pues tienes las imagenes preparadas para tu trabajo."
   ]
  },
  {
   "cell_type": "markdown",
   "id": "f0889ee3-d16b-49e3-be4b-a4c94f28701d",
   "metadata": {},
   "source": [
    "## 1. Carga de Datos\n"
   ]
  },
  {
   "cell_type": "markdown",
   "id": "567bb56f",
   "metadata": {},
   "source": [
    "- En los archivos, encontrarás un folder con imagenes de 3 categorías: cross, box, circle.\n",
    "Cada imagen tiene una medida de 512x512 pixeles y 3 canales. Se han acentuado los azules y rojos para facilitar el proceso de obtención de características.\n",
    "\n",
    "- Puedes extraer la clase a la que pertenece la imagen, desde el nombre del archivo. Ahí mismo encuentras números de serie que te permiten identificar de forma específica una imagen.\n",
    "\n",
    "- Se te entrega 3 imagenes de referencia de 32x32 pixeles, las que debes usar como plantilla para el proceso de clasificación de la imagen.\n"
   ]
  },
  {
   "cell_type": "code",
   "execution_count": null,
   "id": "d0ab6ee5-d7a3-4cf7-9aee-1d1a76b5525f",
   "metadata": {
    "tags": []
   },
   "outputs": [
    {
     "name": "stderr",
     "output_type": "stream",
     "text": [
      "Cargando imágenes: 100%|██████████| 14328/14328 [00:53<00:00, 268.60it/s]\n"
     ]
    },
    {
     "name": "stdout",
     "output_type": "stream",
     "text": [
      "Total de imágenes cargadas: 14328\n",
      "Clases encontradas: {'box', 'cross', 'circle'}\n",
      "Plantillas cargadas:\n",
      "- box: (8, 8, 3)\n",
      "- circ: (8, 8, 3)\n",
      "- cross: (8, 8, 3)\n"
     ]
    },
    {
     "data": {
      "image/png": "[encoded data removed]",
      "text/plain": [
       "<Figure size 1200x400 with 6 Axes>"
      ]
     },
     "metadata": {},
     "output_type": "display_data"
    }
   ],
   "source": [
    "import os\n",
    "import cv2\n",
    "import numpy as np\n",
    "import torch\n",
    "from glob import glob\n",
    "from tqdm import tqdm\n",
    "import matplotlib.pyplot as plt\n",
    "\n",
    "# PARTE 1 - CARGA Y PREPROCESAMIENTO\n",
    "\n",
    "def cargar_imagenes_y_etiquetas(ruta_carpeta, nueva_dim=(128, 128), como_tensor=False):\n",
    "    rutas = sorted(glob(os.path.join(ruta_carpeta, '*.png')))\n",
    "    imagenes = []\n",
    "    etiquetas = []\n",
    "    nombres = []\n",
    "\n",
    "    for ruta in tqdm(rutas, desc=\"Cargando imágenes\"):\n",
    "        img = cv2.imread(ruta)\n",
    "        img = cv2.cvtColor(img, cv2.COLOR_BGR2RGB)\n",
    "        img = cv2.resize(img, nueva_dim, interpolation=cv2.INTER_AREA)\n",
    "        img = img.astype(np.float32) / 255.0\n",
    "\n",
    "        if como_tensor:\n",
    "            img = torch.tensor(img).permute(2, 0, 1)  # [C, H, W]\n",
    "\n",
    "        imagenes.append(img)\n",
    "\n",
    "        nombre = os.path.basename(ruta).lower()\n",
    "        if 'cross' in nombre:\n",
    "            etiquetas.append('cross')\n",
    "        elif 'box' in nombre:\n",
    "            etiquetas.append('box')\n",
    "        elif 'circ' in nombre:\n",
    "            etiquetas.append('circle')\n",
    "        else:\n",
    "            etiquetas.append('desconocida')\n",
    "\n",
    "        nombres.append(nombre)\n",
    "\n",
    "    return imagenes, etiquetas, nombres\n",
    "\n",
    "def cargar_templates(ruta_templates, nueva_dim=(8, 8)):\n",
    "    rutas_templates = sorted(glob(os.path.join(ruta_templates, '*.png')))\n",
    "    templates = {}\n",
    "    for ruta in rutas_templates:\n",
    "        nombre = os.path.basename(ruta).lower()\n",
    "        img = cv2.imread(ruta)\n",
    "        img = cv2.cvtColor(img, cv2.COLOR_BGR2RGB)\n",
    "        img = cv2.resize(img, nueva_dim, interpolation=cv2.INTER_AREA)\n",
    "        img = img.astype(np.float32) / 255.0\n",
    "        if 'cross' in nombre:\n",
    "            templates['cross'] = img\n",
    "        elif 'box' in nombre:\n",
    "            templates['box'] = img\n",
    "        elif 'circ' in nombre:\n",
    "            templates['circ'] = img\n",
    "    return templates\n",
    "\n",
    "def mostrar_muestras(imagenes, etiquetas, n=6):\n",
    "    plt.figure(figsize=(12, 4))\n",
    "    idx = np.random.choice(len(imagenes), n, replace=False)\n",
    "    for i, iidx in enumerate(idx):\n",
    "        plt.subplot(1, n, i+1)\n",
    "        plt.imshow(imagenes[iidx])\n",
    "        plt.title(etiquetas[iidx])\n",
    "        plt.axis('off')\n",
    "    plt.show()\n",
    "\n",
    "# USO DEL CÓDIGO\n",
    "\n",
    "ruta_imagenes = './imagenes/'       \n",
    "ruta_templates = './plantillas/'\n",
    "\n",
    "# Carga con redimensionamiento a 128x128 y templates a 8x8\n",
    "imagenes, etiquetas, nombres = cargar_imagenes_y_etiquetas(ruta_imagenes, nueva_dim=(128, 128), como_tensor=False)\n",
    "templates = cargar_templates(ruta_templates, nueva_dim=(8, 8))\n",
    "\n",
    "print(f\"Total de imágenes cargadas: {len(imagenes)}\")\n",
    "print(f\"Clases encontradas: {set(etiquetas)}\")\n",
    "print(\"Plantillas cargadas:\")\n",
    "for clase, temp in templates.items():\n",
    "    print(f\"- {clase}: {temp.shape}\")\n",
    "\n",
    "# Visualización aleatoria de algunas muestras\n",
    "mostrar_muestras(imagenes, etiquetas, n=6)\n"
   ]
  },
  {
   "cell_type": "markdown",
   "id": "28db8b8d",
   "metadata": {},
   "source": [
    "## 2. Transformar imagen\n",
    "Recuerda que la tarea es lograr el procesamiento más rápido posible.\n",
    "Para lograr esto, realiza las operaciones que consideres necesarias sobre la imagen original para el posterior trabajo de Matching con las plantillas dadas. Crees que trabajar en el dominio de fourier o wavelet ayudaría en las etapas posteriores?"
   ]
  },
  {
   "cell_type": "code",
   "execution_count": null,
   "id": "3cf800d9",
   "metadata": {},
   "outputs": [
    {
     "name": "stderr",
     "output_type": "stream",
     "text": [
      "Transformando imágenes: 100%|██████████| 14328/14328 [00:07<00:00, 1869.24it/s]\n"
     ]
    },
    {
     "name": "stdout",
     "output_type": "stream",
     "text": [
      "Imágenes y plantillas transformadas listas.\n",
      "Dimensión imagen ejemplo: (64, 64)\n",
      "Dimensión plantilla ejemplo: (4, 4)\n"
     ]
    },
    {
     "data": {
      "image/png": "[encoded data removed]",
      "text/plain": [
       "<Figure size 1000x400 with 2 Axes>"
      ]
     },
     "metadata": {},
     "output_type": "display_data"
    }
   ],
   "source": [
    "import cv2\n",
    "import numpy as np\n",
    "import pywt\n",
    "from tqdm import tqdm\n",
    "import matplotlib.pyplot as plt\n",
    "\n",
    "# FUNCIÓN DE PREPROCESAMIENTO INDIVIDUAL\n",
    "\n",
    "def preprocesar_imagen(img_rgb, usar_wavelet=False):\n",
    "    # Convertir a escala de grises\n",
    "    img_gray = cv2.cvtColor((img_rgb * 255).astype(np.uint8), cv2.COLOR_RGB2GRAY)\n",
    "    img_gray = img_gray.astype(np.float32) / 255.0  # Normaliza a [0, 1]\n",
    "\n",
    "    if usar_wavelet:\n",
    "        # Transformada wavelet Haar\n",
    "        cA, (cH, cV, cD) = pywt.dwt2(img_gray, 'haar')\n",
    "        return cA  # Solo se usa la componente aproximada (\"resumen de la imagen\")\n",
    "\n",
    "    return img_gray\n",
    "\n",
    "# PREPROCESAMIENTO MASIVO DE IMÁGENES\n",
    "\n",
    "def transformar_conjunto(imagenes_rgb, usar_wavelet=False):\n",
    "    transformadas = []\n",
    "    for img in tqdm(imagenes_rgb, desc=\"Transformando imágenes\"):\n",
    "        transformadas.append(preprocesar_imagen(img, usar_wavelet=usar_wavelet))\n",
    "    return transformadas\n",
    "\n",
    "# PREPROCESAMIENTO DE TEMPLATES\n",
    "\n",
    "def transformar_templates(templates_rgb, usar_wavelet=False):\n",
    "    templates_transformados = {}\n",
    "    for clase, img in templates_rgb.items():\n",
    "        templates_transformados[clase] = preprocesar_imagen(img, usar_wavelet=usar_wavelet)\n",
    "    return templates_transformados\n",
    "\n",
    "# APLICACIÓN\n",
    "\n",
    "usar_wavelet = True  # True = usa Haar// False = usaría escala de grises normalizada\n",
    "\n",
    "# Preprocesamiento\n",
    "imagenes_proc = transformar_conjunto(imagenes, usar_wavelet=usar_wavelet)\n",
    "templates_proc = transformar_templates(templates, usar_wavelet=usar_wavelet)\n",
    "\n",
    "print(\"Imágenes y plantillas transformadas listas.\")\n",
    "print(f\"Dimensión imagen ejemplo: {imagenes_proc[0].shape}\")\n",
    "print(f\"Dimensión plantilla ejemplo: {list(templates_proc.values())[0].shape}\")\n",
    "\n",
    "# VISUALIZACIÓN DE RESULTADOS\n",
    "\n",
    "def visualizar_transformacion(idx=0):\n",
    "    original = imagenes[idx]\n",
    "    transformada = imagenes_proc[idx]\n",
    "\n",
    "    plt.figure(figsize=(10, 4))\n",
    "    plt.subplot(1, 2, 1)\n",
    "    plt.imshow(original)\n",
    "    plt.title(\"Imagen original (RGB)\")\n",
    "    plt.axis('off')\n",
    "\n",
    "    plt.subplot(1, 2, 2)\n",
    "    plt.imshow(transformada, cmap='gray')\n",
    "    titulo = \"Transformada (Wavelet Haar)\" if usar_wavelet else \"Escala de grises normalizada\"\n",
    "    plt.title(titulo)\n",
    "    plt.axis('off')\n",
    "\n",
    "    plt.show()\n",
    "\n",
    "# Mostrar una imagen de ejemplo\n",
    "visualizar_transformacion(idx=0)\n"
   ]
  },
  {
   "cell_type": "markdown",
   "id": "c64b67c8",
   "metadata": {},
   "source": [
    "## 3. Operaciones\n",
    "Para extraer las caracteristicas, debes realizar las operaciones de segmentación, normalización o convolución como creas necesarias.\n",
    "El resultado de tus operaciones vas a usarlo para el proceso de matching.\n"
   ]
  },
  {
   "cell_type": "code",
   "execution_count": null,
   "id": "16275ac1",
   "metadata": {},
   "outputs": [
    {
     "name": "stderr",
     "output_type": "stream",
     "text": [
      "Segmentando imágenes: 100%|██████████| 14328/14328 [00:01<00:00, 13808.99it/s]\n",
      "Clasificando imágenes: 100%|██████████| 14328/14328 [00:05<00:00, 2604.80it/s]\n"
     ]
    },
    {
     "data": {
      "image/png": "[encoded data removed]",
      "text/plain": [
       "<Figure size 1500x400 with 3 Axes>"
      ]
     },
     "metadata": {},
     "output_type": "display_data"
    }
   ],
   "source": [
    "import cv2\n",
    "import numpy as np\n",
    "from tqdm import tqdm\n",
    "import matplotlib.pyplot as plt\n",
    "\n",
    "# FUNCIÓN DE SEGMENTACIÓN y NORMALIZACIÓN\n",
    "\n",
    "def segmentar_y_normalizar(img):\n",
    "    # Contraste local\n",
    "    img_eq = cv2.equalizeHist((img * 255).astype(np.uint8))\n",
    "    img_eq = img_eq.astype(np.float32) / 255.0\n",
    "\n",
    "    # Segmentación\n",
    "    img_bin = cv2.adaptiveThreshold(\n",
    "        (img_eq * 255).astype(np.uint8),\n",
    "        maxValue=1,\n",
    "        adaptiveMethod=cv2.ADAPTIVE_THRESH_GAUSSIAN_C,\n",
    "        thresholdType=cv2.THRESH_BINARY_INV,\n",
    "        blockSize=15,\n",
    "        C=5\n",
    "    ).astype(np.float32)\n",
    "\n",
    "    return img_bin\n",
    "\n",
    "\n",
    "# SEGMENTACIÓN PARATODAS LAS IMÁGENES\n",
    "\n",
    "def aplicar_segmentacion(imagenes_proc):\n",
    "    return [segmentar_y_normalizar(img) for img in tqdm(imagenes_proc, desc=\"Segmentando imágenes\")]\n",
    "\n",
    "def aplicar_segmentacion_templates(templates_proc):\n",
    "    return {k: segmentar_y_normalizar(v) for k, v in templates_proc.items()}\n",
    "\n",
    "# MATCHING y CLASIFICACIÓN POR CONVOLUCIÓN\n",
    "\n",
    "def clasificar_imagen(img_bin, templates_dict_bin):\n",
    "    min_score = np.inf\n",
    "    prediccion = None\n",
    "\n",
    "    for clase, template in templates_dict_bin.items():\n",
    "        if np.std(img_bin) < 1e-6 or np.std(template) < 1e-6:\n",
    "            continue\n",
    "\n",
    "        res = cv2.matchTemplate(img_bin, template, method=cv2.TM_SQDIFF_NORMED)\n",
    "        min_val, _, _, _ = cv2.minMaxLoc(res)\n",
    "\n",
    "        if min_val < min_score:\n",
    "            min_score = min_val\n",
    "            prediccion = clase\n",
    "\n",
    "    # Si se puede comparar, marcar como desconocido\n",
    "    if prediccion is None:\n",
    "        return 'desconocido', 1.0\n",
    "\n",
    "    return prediccion, 1 - min_score  # para que el 'score' siga siendo interpretado como \"mejor = más alto\"\n",
    "\n",
    "\n",
    "def clasificar_todas(imagenes_bin, templates_bin):\n",
    "    predicciones = []\n",
    "    puntajes = []\n",
    "\n",
    "    for img in tqdm(imagenes_bin, desc=\"Clasificando imágenes\"):\n",
    "        pred, score = clasificar_imagen(img, templates_bin)\n",
    "        predicciones.append(pred)\n",
    "        puntajes.append(score)\n",
    "\n",
    "    return predicciones, puntajes\n",
    "\n",
    "# APLICACIÓN COMPLETA DE LA PRTE 3\n",
    "\n",
    "# Segmenta y normaliza\n",
    "imagenes_bin = aplicar_segmentacion(imagenes_proc)\n",
    "templates_bin = aplicar_segmentacion_templates(templates_proc)\n",
    "\n",
    "# Clasifica\n",
    "predicciones, puntajes = clasificar_todas(imagenes_bin, templates_bin)\n",
    "\n",
    "# VISUALIZACIÓN COMPLETA DE LAS 3 PARTES\n",
    "\n",
    "def mostrar_etapas_operaciones(idx=0):\n",
    "    plt.figure(figsize=(15, 4))\n",
    "\n",
    "    # Imagen original RGB\n",
    "    plt.subplot(1, 3, 1)\n",
    "    plt.imshow(imagenes[idx])\n",
    "    plt.title(\"1. Imagen Original (RGB)\")\n",
    "    plt.axis('off')\n",
    "\n",
    "    # Imagen preprocesada: gris o Haar\n",
    "    plt.subplot(1, 3, 2)\n",
    "    plt.imshow(imagenes_proc[idx], cmap='gray')\n",
    "    plt.title(\"2. Preprocesada (Haar o Gris)\")\n",
    "    plt.axis('off')\n",
    "\n",
    "    # Imagen segmentada: binarizada\n",
    "    plt.subplot(1, 3, 3)\n",
    "    plt.imshow(imagenes_bin[idx], cmap='gray')\n",
    "    plt.title(f\"3. Segmentada + Matching\\nPred: {predicciones[idx]} | Real: {etiquetas[idx]}\\nScore: {puntajes[idx]:.3f}\")\n",
    "    plt.axis('off')\n",
    "\n",
    "    plt.tight_layout()\n",
    "    plt.show()\n",
    "\n",
    "# Mostrar ejemplo visual con idx=0\n",
    "mostrar_etapas_operaciones(idx=0)\n"
   ]
  },
  {
   "attachments": {
    "6850d57c-7e6f-4acf-ac3b-d9a8feb071cb.png": {
     "image/png": "[encoded data removed]"
    }
   },
   "cell_type": "markdown",
   "id": "55e692dd",
   "metadata": {},
   "source": [
    "## 4. Matching\n",
    "El proceso de matching debe considerar que vas a usar las imagenes de referencia para calcular la correlación\n",
    "\n",
    "![image.png](attachment:6850d57c-7e6f-4acf-ac3b-d9a8feb071cb.png)\n",
    "\n",
    "Este proceso es similar a un windowing, donde la ventana es la imagen de referencia. \n",
    "Como verás es un proceso iterativo, dispendioso, pero en el que puedes poner tu creatividad a funcionar para lograrlo de forma eficiente.\n",
    "\n",
    "#### _TIP: realiza el proceso un batch pequeño de imagenes, o solo sobre un par de ellas, hasta que estés satisfecho con el resultado. Una vez esté listo, ESCALA el procedimiento para operar todas la imagenes lo más rápido posible.!_"
   ]
  },
  {
   "cell_type": "code",
   "execution_count": null,
   "id": "8e7dfee1",
   "metadata": {},
   "outputs": [
    {
     "name": "stdout",
     "output_type": "stream",
     "text": [
      "\n",
      "Procesando batch 1/29 - Imágenes 0 a 499\n"
     ]
    },
    {
     "name": "stderr",
     "output_type": "stream",
     "text": [
      "Clasificando imágenes: 100%|██████████| 500/500 [00:00<00:00, 2632.61it/s]\n"
     ]
    },
    {
     "name": "stdout",
     "output_type": "stream",
     "text": [
      "\n",
      "Procesando batch 2/29 - Imágenes 500 a 999\n"
     ]
    },
    {
     "name": "stderr",
     "output_type": "stream",
     "text": [
      "Clasificando imágenes: 100%|██████████| 500/500 [00:00<00:00, 2581.76it/s]\n"
     ]
    },
    {
     "name": "stdout",
     "output_type": "stream",
     "text": [
      "\n",
      "Procesando batch 3/29 - Imágenes 1000 a 1499\n"
     ]
    },
    {
     "name": "stderr",
     "output_type": "stream",
     "text": [
      "Clasificando imágenes: 100%|██████████| 500/500 [00:00<00:00, 2646.27it/s]\n"
     ]
    },
    {
     "name": "stdout",
     "output_type": "stream",
     "text": [
      "\n",
      "Procesando batch 4/29 - Imágenes 1500 a 1999\n"
     ]
    },
    {
     "name": "stderr",
     "output_type": "stream",
     "text": [
      "Clasificando imágenes: 100%|██████████| 500/500 [00:00<00:00, 2640.96it/s]\n"
     ]
    },
    {
     "name": "stdout",
     "output_type": "stream",
     "text": [
      "\n",
      "Procesando batch 5/29 - Imágenes 2000 a 2499\n"
     ]
    },
    {
     "name": "stderr",
     "output_type": "stream",
     "text": [
      "Clasificando imágenes: 100%|██████████| 500/500 [00:00<00:00, 2703.69it/s]\n"
     ]
    },
    {
     "name": "stdout",
     "output_type": "stream",
     "text": [
      "\n",
      "Procesando batch 6/29 - Imágenes 2500 a 2999\n"
     ]
    },
    {
     "name": "stderr",
     "output_type": "stream",
     "text": [
      "Clasificando imágenes: 100%|██████████| 500/500 [00:00<00:00, 2683.00it/s]\n"
     ]
    },
    {
     "name": "stdout",
     "output_type": "stream",
     "text": [
      "\n",
      "Procesando batch 7/29 - Imágenes 3000 a 3499\n"
     ]
    },
    {
     "name": "stderr",
     "output_type": "stream",
     "text": [
      "Clasificando imágenes: 100%|██████████| 500/500 [00:00<00:00, 2643.04it/s]\n"
     ]
    },
    {
     "name": "stdout",
     "output_type": "stream",
     "text": [
      "\n",
      "Procesando batch 8/29 - Imágenes 3500 a 3999\n"
     ]
    },
    {
     "name": "stderr",
     "output_type": "stream",
     "text": [
      "Clasificando imágenes: 100%|██████████| 500/500 [00:00<00:00, 2628.30it/s]\n"
     ]
    },
    {
     "name": "stdout",
     "output_type": "stream",
     "text": [
      "\n",
      "Procesando batch 9/29 - Imágenes 4000 a 4499\n"
     ]
    },
    {
     "name": "stderr",
     "output_type": "stream",
     "text": [
      "Clasificando imágenes: 100%|██████████| 500/500 [00:00<00:00, 2402.70it/s]\n"
     ]
    },
    {
     "name": "stdout",
     "output_type": "stream",
     "text": [
      "\n",
      "Procesando batch 10/29 - Imágenes 4500 a 4999\n"
     ]
    },
    {
     "name": "stderr",
     "output_type": "stream",
     "text": [
      "Clasificando imágenes: 100%|██████████| 500/500 [00:00<00:00, 2633.77it/s]\n"
     ]
    },
    {
     "name": "stdout",
     "output_type": "stream",
     "text": [
      "\n",
      "Procesando batch 11/29 - Imágenes 5000 a 5499\n"
     ]
    },
    {
     "name": "stderr",
     "output_type": "stream",
     "text": [
      "Clasificando imágenes: 100%|██████████| 500/500 [00:00<00:00, 2611.17it/s]\n"
     ]
    },
    {
     "name": "stdout",
     "output_type": "stream",
     "text": [
      "\n",
      "Procesando batch 12/29 - Imágenes 5500 a 5999\n"
     ]
    },
    {
     "name": "stderr",
     "output_type": "stream",
     "text": [
      "Clasificando imágenes: 100%|██████████| 500/500 [00:00<00:00, 2676.52it/s]\n"
     ]
    },
    {
     "name": "stdout",
     "output_type": "stream",
     "text": [
      "\n",
      "Procesando batch 13/29 - Imágenes 6000 a 6499\n"
     ]
    },
    {
     "name": "stderr",
     "output_type": "stream",
     "text": [
      "Clasificando imágenes: 100%|██████████| 500/500 [00:00<00:00, 2622.53it/s]\n"
     ]
    },
    {
     "name": "stdout",
     "output_type": "stream",
     "text": [
      "\n",
      "Procesando batch 14/29 - Imágenes 6500 a 6999\n"
     ]
    },
    {
     "name": "stderr",
     "output_type": "stream",
     "text": [
      "Clasificando imágenes: 100%|██████████| 500/500 [00:00<00:00, 2657.52it/s]\n"
     ]
    },
    {
     "name": "stdout",
     "output_type": "stream",
     "text": [
      "\n",
      "Procesando batch 15/29 - Imágenes 7000 a 7499\n"
     ]
    },
    {
     "name": "stderr",
     "output_type": "stream",
     "text": [
      "Clasificando imágenes: 100%|██████████| 500/500 [00:00<00:00, 2561.32it/s]\n"
     ]
    },
    {
     "name": "stdout",
     "output_type": "stream",
     "text": [
      "\n",
      "Procesando batch 16/29 - Imágenes 7500 a 7999\n"
     ]
    },
    {
     "name": "stderr",
     "output_type": "stream",
     "text": [
      "Clasificando imágenes: 100%|██████████| 500/500 [00:00<00:00, 2485.76it/s]\n"
     ]
    },
    {
     "name": "stdout",
     "output_type": "stream",
     "text": [
      "\n",
      "Procesando batch 17/29 - Imágenes 8000 a 8499\n"
     ]
    },
    {
     "name": "stderr",
     "output_type": "stream",
     "text": [
      "Clasificando imágenes: 100%|██████████| 500/500 [00:00<00:00, 2569.23it/s]\n"
     ]
    },
    {
     "name": "stdout",
     "output_type": "stream",
     "text": [
      "\n",
      "Procesando batch 18/29 - Imágenes 8500 a 8999\n"
     ]
    },
    {
     "name": "stderr",
     "output_type": "stream",
     "text": [
      "Clasificando imágenes: 100%|██████████| 500/500 [00:00<00:00, 2468.57it/s]\n"
     ]
    },
    {
     "name": "stdout",
     "output_type": "stream",
     "text": [
      "\n",
      "Procesando batch 19/29 - Imágenes 9000 a 9499\n"
     ]
    },
    {
     "name": "stderr",
     "output_type": "stream",
     "text": [
      "Clasificando imágenes: 100%|██████████| 500/500 [00:00<00:00, 2552.97it/s]\n"
     ]
    },
    {
     "name": "stdout",
     "output_type": "stream",
     "text": [
      "\n",
      "Procesando batch 20/29 - Imágenes 9500 a 9999\n"
     ]
    },
    {
     "name": "stderr",
     "output_type": "stream",
     "text": [
      "Clasificando imágenes: 100%|██████████| 500/500 [00:00<00:00, 2413.68it/s]\n"
     ]
    },
    {
     "name": "stdout",
     "output_type": "stream",
     "text": [
      "\n",
      "Procesando batch 21/29 - Imágenes 10000 a 10499\n"
     ]
    },
    {
     "name": "stderr",
     "output_type": "stream",
     "text": [
      "Clasificando imágenes: 100%|██████████| 500/500 [00:00<00:00, 2596.99it/s]\n"
     ]
    },
    {
     "name": "stdout",
     "output_type": "stream",
     "text": [
      "\n",
      "Procesando batch 22/29 - Imágenes 10500 a 10999\n"
     ]
    },
    {
     "name": "stderr",
     "output_type": "stream",
     "text": [
      "Clasificando imágenes: 100%|██████████| 500/500 [00:00<00:00, 2341.84it/s]\n"
     ]
    },
    {
     "name": "stdout",
     "output_type": "stream",
     "text": [
      "\n",
      "Procesando batch 23/29 - Imágenes 11000 a 11499\n"
     ]
    },
    {
     "name": "stderr",
     "output_type": "stream",
     "text": [
      "Clasificando imágenes: 100%|██████████| 500/500 [00:00<00:00, 2592.95it/s]\n"
     ]
    },
    {
     "name": "stdout",
     "output_type": "stream",
     "text": [
      "\n",
      "Procesando batch 24/29 - Imágenes 11500 a 11999\n"
     ]
    },
    {
     "name": "stderr",
     "output_type": "stream",
     "text": [
      "Clasificando imágenes: 100%|██████████| 500/500 [00:00<00:00, 2604.28it/s]\n"
     ]
    },
    {
     "name": "stdout",
     "output_type": "stream",
     "text": [
      "\n",
      "Procesando batch 25/29 - Imágenes 12000 a 12499\n"
     ]
    },
    {
     "name": "stderr",
     "output_type": "stream",
     "text": [
      "Clasificando imágenes: 100%|██████████| 500/500 [00:00<00:00, 2576.52it/s]\n"
     ]
    },
    {
     "name": "stdout",
     "output_type": "stream",
     "text": [
      "\n",
      "Procesando batch 26/29 - Imágenes 12500 a 12999\n"
     ]
    },
    {
     "name": "stderr",
     "output_type": "stream",
     "text": [
      "Clasificando imágenes: 100%|██████████| 500/500 [00:00<00:00, 2608.88it/s]\n"
     ]
    },
    {
     "name": "stdout",
     "output_type": "stream",
     "text": [
      "\n",
      "Procesando batch 27/29 - Imágenes 13000 a 13499\n"
     ]
    },
    {
     "name": "stderr",
     "output_type": "stream",
     "text": [
      "Clasificando imágenes: 100%|██████████| 500/500 [00:00<00:00, 2606.36it/s]\n"
     ]
    },
    {
     "name": "stdout",
     "output_type": "stream",
     "text": [
      "\n",
      "Procesando batch 28/29 - Imágenes 13500 a 13999\n"
     ]
    },
    {
     "name": "stderr",
     "output_type": "stream",
     "text": [
      "Clasificando imágenes: 100%|██████████| 500/500 [00:00<00:00, 2603.92it/s]\n"
     ]
    },
    {
     "name": "stdout",
     "output_type": "stream",
     "text": [
      "\n",
      "Procesando batch 29/29 - Imágenes 14000 a 14327\n"
     ]
    },
    {
     "name": "stderr",
     "output_type": "stream",
     "text": [
      "Clasificando imágenes: 100%|██████████| 328/328 [00:00<00:00, 2559.48it/s]"
     ]
    },
    {
     "name": "stdout",
     "output_type": "stream",
     "text": [
      "\n",
      "--- RESULTADOS GLOBALES ---\n",
      "Precisión (accuracy): 0.2710\n",
      "Errores de clasificación: 10445 / 14328\n",
      "Tiempo total de procesamiento: 5.61 segundos\n"
     ]
    },
    {
     "name": "stderr",
     "output_type": "stream",
     "text": [
      "\n"
     ]
    }
   ],
   "source": [
    "import time\n",
    "import numpy as np\n",
    "\n",
    "# FUNCIÓN DE MATCHING POR LOTES\n",
    "\n",
    "def matching_por_lotes(imagenes_bin, templates_bin, etiquetas_reales, batch_size=500):\n",
    "    predicciones_totales = []\n",
    "    puntajes_totales = []\n",
    "    etiquetas_totales = []\n",
    "\n",
    "    total = len(imagenes_bin)\n",
    "    n_batches = (total + batch_size - 1) // batch_size\n",
    "\n",
    "    for i in range(n_batches):\n",
    "        inicio = i * batch_size\n",
    "        fin = min((i + 1) * batch_size, total)\n",
    "\n",
    "        batch_imgs = imagenes_bin[inicio:fin]\n",
    "        batch_etqs = etiquetas_reales[inicio:fin]\n",
    "\n",
    "        print(f\"\\nProcesando batch {i+1}/{n_batches} - Imágenes {inicio} a {fin-1}\")\n",
    "\n",
    "        batch_preds, batch_scores = clasificar_todas(batch_imgs, templates_bin)\n",
    "\n",
    "        predicciones_totales.extend(batch_preds)\n",
    "        puntajes_totales.extend(batch_scores)\n",
    "        etiquetas_totales.extend(batch_etqs)\n",
    "\n",
    "    return predicciones_totales, puntajes_totales, etiquetas_totales\n",
    "\n",
    "# CÁLCULO MANUAL DE PRECISIÓN\n",
    "\n",
    "def calcular_accuracy(y_real, y_pred):\n",
    "    aciertos = sum([pred == real for pred, real in zip(y_pred, y_real)])\n",
    "    total = len(y_real)\n",
    "    errores = total - aciertos\n",
    "    return aciertos / total, errores\n",
    "\n",
    "# APLICACIÓN DEL MATCHING Y EVALUACIÓN\n",
    "\n",
    "# Inicia cronómetro\n",
    "tiempo_inicio = time.time()\n",
    "\n",
    "# Matching por lotes\n",
    "preds_finales, scores_finales, y_reales = matching_por_lotes(\n",
    "    imagenes_bin, templates_bin, etiquetas, batch_size=500\n",
    ")\n",
    "\n",
    "# Tiempo total\n",
    "tiempo_total = time.time() - tiempo_inicio\n",
    "\n",
    "# Precisión y errores\n",
    "accuracy_total, errores = calcular_accuracy(y_reales, preds_finales)\n",
    "\n",
    "# Resultados globales\n",
    "print(\"\\n--- RESULTADOS GLOBALES ---\")\n",
    "print(f\"Precisión (accuracy): {accuracy_total:.4f}\")\n",
    "print(f\"Errores de clasificación: {errores} / {len(y_reales)}\")\n",
    "print(f\"Tiempo total de procesamiento: {tiempo_total:.2f} segundos\")\n"
   ]
  },
  {
   "cell_type": "markdown",
   "id": "550b44f5",
   "metadata": {
    "tags": []
   },
   "source": [
    "# 5. Clasificación\n",
    "De cada operación realizada de matching, obtendrás valores para inferir si la imagen bajo estudio corresponde con alguna de las 3 categorías: cross, box, circle.\n",
    "\n",
    "Debes almacenar cada resultado obtenido para cada imagen, hallar el error de clasificación y generar un informe del error general al clasificar todas las imagenes."
   ]
  },
  {
   "cell_type": "markdown",
   "id": "50606ff2-b6ab-4b75-9292-ca6dfd1f2cf3",
   "metadata": {
    "tags": []
   },
   "source": [
    "Presenta aquí el resultado de clasificación numérico, así como  dos ejemplos verdaderos y dos ejemplos falsos de imagenes clasificadas.\n"
   ]
  },
  {
   "cell_type": "code",
   "execution_count": null,
   "id": "13920e66-4b02-4fad-b711-78fe6249c5f8",
   "metadata": {},
   "outputs": [
    {
     "name": "stdout",
     "output_type": "stream",
     "text": [
      "\n",
      "--- CLASIFICACIÓN FINAL ---\n",
      "Total de imágenes: 14328\n",
      "Aciertos: 3883\n",
      "Errores: 10445\n",
      "Precisión: 0.2710\n",
      "Error de clasificación: 0.7290\n",
      "\n",
      "Mostrando dos ejemplos correctamente clasificados:\n"
     ]
    },
    {
     "data": {
      "image/png": "[encoded data removed]",
      "text/plain": [
       "<Figure size 1200x400 with 2 Axes>"
      ]
     },
     "metadata": {},
     "output_type": "display_data"
    },
    {
     "name": "stdout",
     "output_type": "stream",
     "text": [
      "\n",
      "Mostrando dos ejemplos incorrectamente clasificados:\n"
     ]
    },
    {
     "data": {
      "image/png": "[encoded data removed]",
      "text/plain": [
       "<Figure size 1200x400 with 2 Axes>"
      ]
     },
     "metadata": {},
     "output_type": "display_data"
    }
   ],
   "source": [
    "import matplotlib.pyplot as plt\n",
    "import random\n",
    "\n",
    "# CÁLCULO FINAL DE MÉTRICAS\n",
    "\n",
    "total_imagenes = len(y_reales)\n",
    "aciertos = sum([p == r for p, r in zip(preds_finales, y_reales)])\n",
    "errores = total_imagenes - aciertos\n",
    "accuracy = aciertos / total_imagenes\n",
    "error_clasificacion = errores / total_imagenes\n",
    "\n",
    "print(\"\\n--- CLASIFICACIÓN FINAL ---\")\n",
    "print(f\"Total de imágenes: {total_imagenes}\")\n",
    "print(f\"Aciertos: {aciertos}\")\n",
    "print(f\"Errores: {errores}\")\n",
    "print(f\"Precisión: {accuracy:.4f}\")\n",
    "print(f\"Error de clasificación: {error_clasificacion:.4f}\")\n",
    "\n",
    "# IDENTIFICAR EJEMPLOS VERDADEROS Y FALSOS\n",
    "\n",
    "indices_bien = [i for i in range(total_imagenes) if preds_finales[i] == y_reales[i]]\n",
    "indices_mal = [i for i in range(total_imagenes) if preds_finales[i] != y_reales[i]]\n",
    "\n",
    "ej_bien = random.sample(indices_bien, 2)\n",
    "ej_mal = random.sample(indices_mal, 2)\n",
    "\n",
    "# FUNCIÓN DE VISUALIZACIÓN DE EJEMPLOS\n",
    "\n",
    "def mostrar_ejemplos(indices, titulo_general):\n",
    "    plt.figure(figsize=(12, 4))\n",
    "    for j, idx in enumerate(indices):\n",
    "        plt.subplot(1, len(indices), j + 1)\n",
    "        plt.imshow(imagenes[idx])\n",
    "        plt.title(f\"{titulo_general}\\nReal: {y_reales[idx]} | Pred: {preds_finales[idx]}\\nScore: {scores_finales[idx]:.3f}\")\n",
    "        plt.axis('off')\n",
    "    plt.tight_layout()\n",
    "    plt.show()\n",
    "\n",
    "# VISUALIZACIÓN DE EJEMPLOS CORRECTOS Y ERRÓNEOS\n",
    "\n",
    "print(\"\\nMostrando dos ejemplos correctamente clasificados:\")\n",
    "mostrar_ejemplos(ej_bien, \"Clasificación Correcta\")\n",
    "\n",
    "print(\"\\nMostrando dos ejemplos incorrectamente clasificados:\")\n",
    "mostrar_ejemplos(ej_mal, \"Clasificación Incorrecta\")\n"
   ]
  },
  {
   "cell_type": "markdown",
   "id": "3add46e0-f5e2-4a20-8830-3e795f78d2a0",
   "metadata": {},
   "source": [
    "# 6. Medición\n",
    "Recuerda que debes imprimir el tiempo que tarda tu algoritmo en procesar todas las imagenes en la base de datos. Usa el siguiente fragmento de código, ubicando el inicio y fin donde corresponda.\n",
    "\n",
    "\n",
    "\n"
   ]
  },
  {
   "cell_type": "code",
   "execution_count": null,
   "id": "bd8e1005-2576-4d78-93eb-3a3124f5394c",
   "metadata": {},
   "outputs": [
    {
     "name": "stdout",
     "output_type": "stream",
     "text": [
      "\n",
      "Procesando batch 1/29 - Imágenes 0 a 499\n"
     ]
    },
    {
     "name": "stderr",
     "output_type": "stream",
     "text": [
      "Clasificando imágenes: 100%|██████████| 500/500 [00:00<00:00, 2523.04it/s]\n"
     ]
    },
    {
     "name": "stdout",
     "output_type": "stream",
     "text": [
      "\n",
      "Procesando batch 2/29 - Imágenes 500 a 999\n"
     ]
    },
    {
     "name": "stderr",
     "output_type": "stream",
     "text": [
      "Clasificando imágenes: 100%|██████████| 500/500 [00:00<00:00, 2588.44it/s]\n"
     ]
    },
    {
     "name": "stdout",
     "output_type": "stream",
     "text": [
      "\n",
      "Procesando batch 3/29 - Imágenes 1000 a 1499\n"
     ]
    },
    {
     "name": "stderr",
     "output_type": "stream",
     "text": [
      "Clasificando imágenes: 100%|██████████| 500/500 [00:00<00:00, 2684.09it/s]\n"
     ]
    },
    {
     "name": "stdout",
     "output_type": "stream",
     "text": [
      "\n",
      "Procesando batch 4/29 - Imágenes 1500 a 1999\n"
     ]
    },
    {
     "name": "stderr",
     "output_type": "stream",
     "text": [
      "Clasificando imágenes: 100%|██████████| 500/500 [00:00<00:00, 2643.27it/s]\n"
     ]
    },
    {
     "name": "stdout",
     "output_type": "stream",
     "text": [
      "\n",
      "Procesando batch 5/29 - Imágenes 2000 a 2499\n"
     ]
    },
    {
     "name": "stderr",
     "output_type": "stream",
     "text": [
      "Clasificando imágenes: 100%|██████████| 500/500 [00:00<00:00, 2591.66it/s]\n"
     ]
    },
    {
     "name": "stdout",
     "output_type": "stream",
     "text": [
      "\n",
      "Procesando batch 6/29 - Imágenes 2500 a 2999\n"
     ]
    },
    {
     "name": "stderr",
     "output_type": "stream",
     "text": [
      "Clasificando imágenes: 100%|██████████| 500/500 [00:00<00:00, 2474.88it/s]\n"
     ]
    },
    {
     "name": "stdout",
     "output_type": "stream",
     "text": [
      "\n",
      "Procesando batch 7/29 - Imágenes 3000 a 3499\n"
     ]
    },
    {
     "name": "stderr",
     "output_type": "stream",
     "text": [
      "Clasificando imágenes: 100%|██████████| 500/500 [00:00<00:00, 2628.34it/s]\n"
     ]
    },
    {
     "name": "stdout",
     "output_type": "stream",
     "text": [
      "\n",
      "Procesando batch 8/29 - Imágenes 3500 a 3999\n"
     ]
    },
    {
     "name": "stderr",
     "output_type": "stream",
     "text": [
      "Clasificando imágenes: 100%|██████████| 500/500 [00:00<00:00, 2513.61it/s]\n"
     ]
    },
    {
     "name": "stdout",
     "output_type": "stream",
     "text": [
      "\n",
      "Procesando batch 9/29 - Imágenes 4000 a 4499\n"
     ]
    },
    {
     "name": "stderr",
     "output_type": "stream",
     "text": [
      "Clasificando imágenes: 100%|██████████| 500/500 [00:00<00:00, 2605.18it/s]\n"
     ]
    },
    {
     "name": "stdout",
     "output_type": "stream",
     "text": [
      "\n",
      "Procesando batch 10/29 - Imágenes 4500 a 4999\n"
     ]
    },
    {
     "name": "stderr",
     "output_type": "stream",
     "text": [
      "Clasificando imágenes: 100%|██████████| 500/500 [00:00<00:00, 2563.27it/s]\n"
     ]
    },
    {
     "name": "stdout",
     "output_type": "stream",
     "text": [
      "\n",
      "Procesando batch 11/29 - Imágenes 5000 a 5499\n"
     ]
    },
    {
     "name": "stderr",
     "output_type": "stream",
     "text": [
      "Clasificando imágenes: 100%|██████████| 500/500 [00:00<00:00, 2412.21it/s]\n"
     ]
    },
    {
     "name": "stdout",
     "output_type": "stream",
     "text": [
      "\n",
      "Procesando batch 12/29 - Imágenes 5500 a 5999\n"
     ]
    },
    {
     "name": "stderr",
     "output_type": "stream",
     "text": [
      "Clasificando imágenes: 100%|██████████| 500/500 [00:00<00:00, 2588.76it/s]\n"
     ]
    },
    {
     "name": "stdout",
     "output_type": "stream",
     "text": [
      "\n",
      "Procesando batch 13/29 - Imágenes 6000 a 6499\n"
     ]
    },
    {
     "name": "stderr",
     "output_type": "stream",
     "text": [
      "Clasificando imágenes: 100%|██████████| 500/500 [00:00<00:00, 2630.02it/s]\n"
     ]
    },
    {
     "name": "stdout",
     "output_type": "stream",
     "text": [
      "\n",
      "Procesando batch 14/29 - Imágenes 6500 a 6999\n"
     ]
    },
    {
     "name": "stderr",
     "output_type": "stream",
     "text": [
      "Clasificando imágenes: 100%|██████████| 500/500 [00:00<00:00, 2608.76it/s]\n"
     ]
    },
    {
     "name": "stdout",
     "output_type": "stream",
     "text": [
      "\n",
      "Procesando batch 15/29 - Imágenes 7000 a 7499\n"
     ]
    },
    {
     "name": "stderr",
     "output_type": "stream",
     "text": [
      "Clasificando imágenes: 100%|██████████| 500/500 [00:00<00:00, 2558.80it/s]\n"
     ]
    },
    {
     "name": "stdout",
     "output_type": "stream",
     "text": [
      "\n",
      "Procesando batch 16/29 - Imágenes 7500 a 7999\n"
     ]
    },
    {
     "name": "stderr",
     "output_type": "stream",
     "text": [
      "Clasificando imágenes: 100%|██████████| 500/500 [00:00<00:00, 2616.39it/s]\n"
     ]
    },
    {
     "name": "stdout",
     "output_type": "stream",
     "text": [
      "\n",
      "Procesando batch 17/29 - Imágenes 8000 a 8499\n"
     ]
    },
    {
     "name": "stderr",
     "output_type": "stream",
     "text": [
      "Clasificando imágenes: 100%|██████████| 500/500 [00:00<00:00, 2606.70it/s]\n"
     ]
    },
    {
     "name": "stdout",
     "output_type": "stream",
     "text": [
      "\n",
      "Procesando batch 18/29 - Imágenes 8500 a 8999\n"
     ]
    },
    {
     "name": "stderr",
     "output_type": "stream",
     "text": [
      "Clasificando imágenes: 100%|██████████| 500/500 [00:00<00:00, 2575.90it/s]\n"
     ]
    },
    {
     "name": "stdout",
     "output_type": "stream",
     "text": [
      "\n",
      "Procesando batch 19/29 - Imágenes 9000 a 9499\n"
     ]
    },
    {
     "name": "stderr",
     "output_type": "stream",
     "text": [
      "Clasificando imágenes: 100%|██████████| 500/500 [00:00<00:00, 2584.96it/s]\n"
     ]
    },
    {
     "name": "stdout",
     "output_type": "stream",
     "text": [
      "\n",
      "Procesando batch 20/29 - Imágenes 9500 a 9999\n"
     ]
    },
    {
     "name": "stderr",
     "output_type": "stream",
     "text": [
      "Clasificando imágenes: 100%|██████████| 500/500 [00:00<00:00, 2582.02it/s]\n"
     ]
    },
    {
     "name": "stdout",
     "output_type": "stream",
     "text": [
      "\n",
      "Procesando batch 21/29 - Imágenes 10000 a 10499\n"
     ]
    },
    {
     "name": "stderr",
     "output_type": "stream",
     "text": [
      "Clasificando imágenes: 100%|██████████| 500/500 [00:00<00:00, 2524.39it/s]\n"
     ]
    },
    {
     "name": "stdout",
     "output_type": "stream",
     "text": [
      "\n",
      "Procesando batch 22/29 - Imágenes 10500 a 10999\n"
     ]
    },
    {
     "name": "stderr",
     "output_type": "stream",
     "text": [
      "Clasificando imágenes: 100%|██████████| 500/500 [00:00<00:00, 2465.55it/s]\n"
     ]
    },
    {
     "name": "stdout",
     "output_type": "stream",
     "text": [
      "\n",
      "Procesando batch 23/29 - Imágenes 11000 a 11499\n"
     ]
    },
    {
     "name": "stderr",
     "output_type": "stream",
     "text": [
      "Clasificando imágenes: 100%|██████████| 500/500 [00:00<00:00, 2588.50it/s]\n"
     ]
    },
    {
     "name": "stdout",
     "output_type": "stream",
     "text": [
      "\n",
      "Procesando batch 24/29 - Imágenes 11500 a 11999\n"
     ]
    },
    {
     "name": "stderr",
     "output_type": "stream",
     "text": [
      "Clasificando imágenes: 100%|██████████| 500/500 [00:00<00:00, 2594.89it/s]\n"
     ]
    },
    {
     "name": "stdout",
     "output_type": "stream",
     "text": [
      "\n",
      "Procesando batch 25/29 - Imágenes 12000 a 12499\n"
     ]
    },
    {
     "name": "stderr",
     "output_type": "stream",
     "text": [
      "Clasificando imágenes: 100%|██████████| 500/500 [00:00<00:00, 2239.70it/s]\n"
     ]
    },
    {
     "name": "stdout",
     "output_type": "stream",
     "text": [
      "\n",
      "Procesando batch 26/29 - Imágenes 12500 a 12999\n"
     ]
    },
    {
     "name": "stderr",
     "output_type": "stream",
     "text": [
      "Clasificando imágenes: 100%|██████████| 500/500 [00:00<00:00, 2590.05it/s]\n"
     ]
    },
    {
     "name": "stdout",
     "output_type": "stream",
     "text": [
      "\n",
      "Procesando batch 27/29 - Imágenes 13000 a 13499\n"
     ]
    },
    {
     "name": "stderr",
     "output_type": "stream",
     "text": [
      "Clasificando imágenes: 100%|██████████| 500/500 [00:00<00:00, 2508.60it/s]\n"
     ]
    },
    {
     "name": "stdout",
     "output_type": "stream",
     "text": [
      "\n",
      "Procesando batch 28/29 - Imágenes 13500 a 13999\n"
     ]
    },
    {
     "name": "stderr",
     "output_type": "stream",
     "text": [
      "Clasificando imágenes: 100%|██████████| 500/500 [00:00<00:00, 2520.62it/s]\n"
     ]
    },
    {
     "name": "stdout",
     "output_type": "stream",
     "text": [
      "\n",
      "Procesando batch 29/29 - Imágenes 14000 a 14327\n"
     ]
    },
    {
     "name": "stderr",
     "output_type": "stream",
     "text": [
      "Clasificando imágenes: 100%|██████████| 328/328 [00:00<00:00, 2544.83it/s]"
     ]
    },
    {
     "name": "stdout",
     "output_type": "stream",
     "text": [
      "\n",
      "--- RESULTADOS FINALES ---\n",
      "Precisión (accuracy): 0.2710\n",
      "Errores de clasificación: 10445 / 14328\n",
      "Tiempo total de procesamiento: 5.66 segundos\n"
     ]
    },
    {
     "name": "stderr",
     "output_type": "stream",
     "text": [
      "\n"
     ]
    }
   ],
   "source": [
    "from timeit import default_timer as timer\n",
    "\n",
    "# MEDICIÓN DE TIEMPO DE EJECUCIÓN COMPLETO\n",
    "\n",
    "start = timer()  # INICIO\n",
    "\n",
    "# Matching por lotes\n",
    "preds_finales, scores_finales, y_reales = matching_por_lotes(\n",
    "    imagenes_bin, templates_bin, etiquetas, batch_size=500\n",
    ")\n",
    "\n",
    "end = timer()  # FIN\n",
    "\n",
    "tiempo_total = end - start\n",
    "\n",
    "# CÁLCULO FINAL DE PRECISIÓN\n",
    "\n",
    "def calcular_accuracy(y_real, y_pred):\n",
    "    aciertos = sum([pred == real for pred, real in zip(y_pred, y_real)])\n",
    "    total = len(y_real)\n",
    "    errores = total - aciertos\n",
    "    return aciertos / total, errores\n",
    "\n",
    "accuracy_total, errores = calcular_accuracy(y_reales, preds_finales)\n",
    "\n",
    "# RESULTADOS FINALES\n",
    "\n",
    "print(\"\\n--- RESULTADOS FINALES ---\")\n",
    "print(f\"Precisión (accuracy): {accuracy_total:.4f}\")\n",
    "print(f\"Errores de clasificación: {errores} / {len(y_reales)}\")\n",
    "print(f\"Tiempo total de procesamiento: {tiempo_total:.2f} segundos\")\n",
    "\n"
   ]
  }
 ],
 "metadata": {
  "kernelspec": {
   "display_name": "Python 3 (ipykernel)",
   "language": "python",
   "name": "python3"
  },
  "language_info": {
   "codemirror_mode": {
    "name": "ipython",
    "version": 3
   },
   "file_extension": ".py",
   "mimetype": "text/x-python",
   "name": "python",
   "nbconvert_exporter": "python",
   "pygments_lexer": "ipython3",
   "version": "3.10.12"
  }
 },
 "nbformat": 4,
 "nbformat_minor": 5
}
